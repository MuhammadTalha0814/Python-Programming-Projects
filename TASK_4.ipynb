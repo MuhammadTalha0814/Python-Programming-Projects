{
 "cells": [
  {
   "cell_type": "code",
   "execution_count": 2,
   "metadata": {
    "id": "AxVkcqqHO_Ln"
   },
   "outputs": [],
   "source": [
    "from tkinter import *\n",
    "import tkinter as tk\n",
    "from tkinter import messagebox"
   ]
  },
  {
   "cell_type": "code",
   "execution_count": 3,
   "metadata": {},
   "outputs": [],
   "source": [
    "\n",
    "def addnumbers():\n",
    "    try:\n",
    "        number_one = int(input_field_one.get())\n",
    "        number_two = int(input_field_two.get())\n",
    "        result = number_one + number_two\n",
    "        lbl_result[\"text\"] = f\"Result: {result}\"\n",
    "    except ValueError:\n",
    "        messagebox.showerror(\"Invalid Input\") \n",
    "\n",
    "def subtractnumbers():\n",
    "    try:\n",
    "        number_one = int(input_field_one.get())\n",
    "        number_two = int(input_field_two.get())\n",
    "        result = number_one - number_two\n",
    "        lbl_result[\"text\"] = f\"Result: {result}\"\n",
    "    except ValueError:\n",
    "        messagebox.showerror(\"Invalid Input\") \n",
    "def multiplynumbers():\n",
    "    try:\n",
    "        number_one = int(input_field_one.get())\n",
    "        number_two = int(input_field_two.get())\n",
    "        result = number_one * number_two\n",
    "        lbl_result[\"text\"] = f\"Result: {result}\"\n",
    "    except ValueError:\n",
    "        messagebox.showerror(\"Invalid Input\") \n",
    "def dividenumbers():\n",
    "    try:\n",
    "        number_one = int(input_field_one.get())\n",
    "        number_two = int(input_field_two.get())\n",
    "        result = number_one / number_two\n",
    "        lbl_result[\"text\"] = f\"Result: {result}\"\n",
    "    except ValueError:\n",
    "        messagebox.showerror(\"Invalid Input\") \n",
    "\n",
    "\n",
    "\n",
    "main_window_of_calculator = tk.Tk()\n",
    "main_window_of_calculator.title('CALCULATOR')\n",
    "c = tk.Canvas(height=100 , width=350)\n",
    "input_field_one_label = tk.Label(main_window_of_calculator, text=\"Enter first number: \")\n",
    "input_field_one_label.pack()\n",
    "input_field_one = tk.Entry(main_window_of_calculator)\n",
    "input_field_one.pack()\n",
    "input_field_two_label = tk.Label(main_window_of_calculator, text=\"Enter Second number: \")\n",
    "input_field_two_label.pack()\n",
    "input_field_two = tk.Entry(main_window_of_calculator)\n",
    "input_field_two.pack()\n",
    "add_button_label = tk.Label(main_window_of_calculator, text=\"click add button to add two numbers: \")\n",
    "add_button_label.pack()\n",
    "add_button = tk.Button(main_window_of_calculator,text='Add',relief=GROOVE,command=addnumbers)\n",
    "add_button.pack()\n",
    "subtract_button_label = tk.Label(main_window_of_calculator, text=\"click subtract button to add two numbers: \")\n",
    "subtract_button_label.pack()\n",
    "subtract_button = tk.Button(main_window_of_calculator,text='Subtract',relief=GROOVE, command=subtractnumbers)\n",
    "subtract_button.pack()\n",
    "multiply_button_label = tk.Label(main_window_of_calculator, text=\"click multiply button to add two numbers: \")\n",
    "multiply_button_label.pack()\n",
    "multiply_button = tk.Button(main_window_of_calculator,text='Multiply',relief=GROOVE, command=multiplynumbers)\n",
    "multiply_button.pack()\n",
    "divide_button_label = tk.Label(main_window_of_calculator, text=\"click divide button to add two numbers: \")\n",
    "divide_button_label.pack()\n",
    "divide_button = tk.Button(main_window_of_calculator,text='Divide',relief=GROOVE, command=dividenumbers)\n",
    "divide_button.pack()\n",
    "lbl_result = tk.Label(main_window_of_calculator, text=\"Result: \")\n",
    "lbl_result.pack()\n",
    "c.pack()\n",
    "main_window_of_calculator.mainloop()\n",
    "\n",
    "\n"
   ]
  },
  {
   "cell_type": "code",
   "execution_count": null,
   "metadata": {},
   "outputs": [],
   "source": []
  }
 ],
 "metadata": {
  "colab": {
   "provenance": []
  },
  "kernelspec": {
   "display_name": "Python 3 (ipykernel)",
   "language": "python",
   "name": "python3"
  },
  "language_info": {
   "codemirror_mode": {
    "name": "ipython",
    "version": 3
   },
   "file_extension": ".py",
   "mimetype": "text/x-python",
   "name": "python",
   "nbconvert_exporter": "python",
   "pygments_lexer": "ipython3",
   "version": "3.9.12"
  }
 },
 "nbformat": 4,
 "nbformat_minor": 4
}
