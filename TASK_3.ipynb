{
 "cells": [
  {
   "cell_type": "code",
   "execution_count": 1,
   "metadata": {
    "colab": {
     "base_uri": "https://localhost:8080/"
    },
    "id": "AxVkcqqHO_Ln",
    "outputId": "264c5af5-c49b-4adc-bd7f-2721cd52f6ed"
   },
   "outputs": [
    {
     "name": "stdin",
     "output_type": "stream",
     "text": [
      "Enter integers to convert into list :  1\n",
      "Enter integers to convert into list :  2\n",
      "Enter integers to convert into list :  3\n",
      "Enter integers to convert into list :  4\n",
      "Enter integers to convert into list :  5\n",
      "Enter integers to convert into list :  5\n",
      "Enter integers to convert into list :  5\n",
      "Enter integers to convert into list :  8\n",
      "Enter integers to convert into list :  9\n"
     ]
    },
    {
     "name": "stdout",
     "output_type": "stream",
     "text": [
      "--------------------------------------------------------------------------------\n",
      "LIST_OF_INTEGERS :  ['1', '2', '3', '4', '5', '5', '5', '8', '9']\n",
      "--------------------------------------------------------------------------------\n",
      "LENGTH_OF_LIST_OF_INTEGERS :  9\n",
      "--------------------------------------------------------------------------------\n"
     ]
    },
    {
     "data": {
      "text/plain": [
       "True"
      ]
     },
     "execution_count": 1,
     "metadata": {},
     "output_type": "execute_result"
    }
   ],
   "source": [
    "# Prompt the user to input a list of integers \n",
    "# and calculates the length and the fifth element. \n",
    "# Return true if the length of the list is 9 and the fifth element occurs thrice in the given list.\n",
    "\n",
    "\n",
    "list_integers = []\n",
    "for integers in range(1,10):\n",
    "  integers = input(\"Enter integers to convert into list : \")\n",
    "  list_integers.append(integers)\n",
    "print(\"--------------------------------------------------------------------------------\")\n",
    "print(\"LIST_OF_INTEGERS : \" , list_integers)   \n",
    "print(\"--------------------------------------------------------------------------------\")\n",
    "print(\"LENGTH_OF_LIST_OF_INTEGERS : \" , len(list_integers))   \n",
    "print(\"--------------------------------------------------------------------------------\")\n",
    "\n",
    "def checking_credentials():\n",
    "  if len(list_integers) == 9 and list_integers.count(list_integers[4]) == 3:\n",
    "    return True\n",
    "  else:\n",
    "    return False\n",
    "\n",
    "checking_credentials()\n",
    "\n",
    "\n",
    "\n"
   ]
  },
  {
   "cell_type": "code",
   "execution_count": null,
   "metadata": {
    "id": "dDF-wKyngine"
   },
   "outputs": [],
   "source": []
  }
 ],
 "metadata": {
  "colab": {
   "provenance": []
  },
  "kernelspec": {
   "display_name": "Python 3 (ipykernel)",
   "language": "python",
   "name": "python3"
  },
  "language_info": {
   "codemirror_mode": {
    "name": "ipython",
    "version": 3
   },
   "file_extension": ".py",
   "mimetype": "text/x-python",
   "name": "python",
   "nbconvert_exporter": "python",
   "pygments_lexer": "ipython3",
   "version": "3.9.12"
  }
 },
 "nbformat": 4,
 "nbformat_minor": 4
}
