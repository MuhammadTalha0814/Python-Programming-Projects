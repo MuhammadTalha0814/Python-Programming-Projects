{
 "cells": [
  {
   "cell_type": "code",
   "execution_count": 1,
   "metadata": {
    "colab": {
     "base_uri": "https://localhost:8080/"
    },
    "id": "AxVkcqqHO_Ln",
    "outputId": "301cdbb0-a5d8-4048-99f2-90bc944a4f7d"
   },
   "outputs": [
    {
     "name": "stdin",
     "output_type": "stream",
     "text": [
      "Enter First integer :  4\n",
      "Enter Second integer :  5\n"
     ]
    },
    {
     "data": {
      "text/plain": [
       "False"
      ]
     },
     "execution_count": 1,
     "metadata": {},
     "output_type": "execute_result"
    }
   ],
   "source": [
    "# Prompt the user to input two integers and\n",
    "# return true if the two given integer values are equal or their sum or difference is 9.\n",
    "\n",
    "def checking_numbers(integer_1 , integer_2):\n",
    "  if integer_1 == integer_2:\n",
    "    return True\n",
    "  elif integer_1 + integer_2 == 9:\n",
    "    return False\n",
    "  elif abs(integer_1 - integer_2) == 9:\n",
    "    return True\n",
    "  else:\n",
    "    return False\n",
    "\n",
    "\n",
    "integer_1 = int(input('Enter First integer : '))\n",
    "integer_2 = int(input('Enter Second integer : '))\n",
    "checking_numbers(integer_1,integer_2)\n"
   ]
  },
  {
   "cell_type": "code",
   "execution_count": null,
   "metadata": {},
   "outputs": [],
   "source": []
  }
 ],
 "metadata": {
  "colab": {
   "provenance": []
  },
  "kernelspec": {
   "display_name": "Python 3 (ipykernel)",
   "language": "python",
   "name": "python3"
  },
  "language_info": {
   "codemirror_mode": {
    "name": "ipython",
    "version": 3
   },
   "file_extension": ".py",
   "mimetype": "text/x-python",
   "name": "python",
   "nbconvert_exporter": "python",
   "pygments_lexer": "ipython3",
   "version": "3.9.12"
  }
 },
 "nbformat": 4,
 "nbformat_minor": 4
}
