{
 "cells": [
  {
   "cell_type": "code",
   "execution_count": 2,
   "metadata": {
    "colab": {
     "base_uri": "https://localhost:8080/"
    },
    "id": "yny93G_DNgkw",
    "outputId": "735849f9-a82e-4111-9766-396725d76ee7"
   },
   "outputs": [
    {
     "name": "stdout",
     "output_type": "stream",
     "text": [
      "------------------------------------------------------------------------------------------------\n"
     ]
    },
    {
     "name": "stdin",
     "output_type": "stream",
     "text": [
      "Enter your money :  365\n"
     ]
    },
    {
     "name": "stdout",
     "output_type": "stream",
     "text": [
      "------------------------------------------------------------------------------------------------\n",
      "you have following available notes  :  [100, 50, 20, 10, 5]\n",
      "------------------------------------------------------------------------------------------------\n",
      "length of your available notes list is :  5\n",
      "------------------------------------------------------------------------------------------------\n",
      "available_notes_of_each_note :  [3, 1, 0, 1, 1]\n",
      "------------------------------------------------------------------------------------------------\n"
     ]
    }
   ],
   "source": [
    "print(\"------------------------------------------------------------------------------------------------\")   \n",
    "money_input = int(input(\"Enter your money : \"))\n",
    " \n",
    "Indexes_for_telling_strength_of_each_notes = []\n",
    "\n",
    "def money_notes(money_input, available_notes_you_have):\n",
    "    for available_note_in_notes_you_have in available_notes_you_have:\n",
    "        counter_for_notes = money_input // available_note_in_notes_you_have\n",
    "        Indexes_for_telling_strength_of_each_notes.append(counter_for_notes)\n",
    "        money_input %= available_note_in_notes_you_have\n",
    "    return Indexes_for_telling_strength_of_each_notes\n",
    "\n",
    "available_notes_you_have = [100, 50, 20, 10, 5]\n",
    "available_notes_of_each_note = money_notes(money_input, available_notes_you_have)\n",
    "\n",
    "print(\"------------------------------------------------------------------------------------------------\")          \n",
    "print(\"you have following available notes  : \" , available_notes_you_have )\n",
    "print(\"------------------------------------------------------------------------------------------------\")        \n",
    "print(\"length of your available notes list is : \" , len(available_notes_you_have) )\n",
    "print(\"------------------------------------------------------------------------------------------------\")       \n",
    "print(\"available_notes_of_each_note : \" , available_notes_of_each_note )\n",
    "print(\"------------------------------------------------------------------------------------------------\")     \n"
   ]
  },
  {
   "cell_type": "code",
   "execution_count": null,
   "metadata": {},
   "outputs": [],
   "source": []
  }
 ],
 "metadata": {
  "colab": {
   "provenance": [],
   "toc_visible": true
  },
  "kernelspec": {
   "display_name": "Python 3 (ipykernel)",
   "language": "python",
   "name": "python3"
  },
  "language_info": {
   "codemirror_mode": {
    "name": "ipython",
    "version": 3
   },
   "file_extension": ".py",
   "mimetype": "text/x-python",
   "name": "python",
   "nbconvert_exporter": "python",
   "pygments_lexer": "ipython3",
   "version": "3.9.12"
  }
 },
 "nbformat": 4,
 "nbformat_minor": 4
}
